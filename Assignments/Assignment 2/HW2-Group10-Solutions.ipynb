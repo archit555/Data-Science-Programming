{
 "cells": [
  {
   "cell_type": "markdown",
   "metadata": {},
   "source": [
    "# Assignment 2 Submission for Group 13\n",
    "## Members: Archit Patel, Samuel Worley, Yen Wen Ting"
   ]
  },
  {
   "cell_type": "code",
   "execution_count": 1,
   "metadata": {},
   "outputs": [],
   "source": [
    "# importing module\n",
    "import pandas as pd\n",
    "from pandas import Series, DataFrame\n",
    "import numpy as np\n",
    "\n",
    "#Reading the csv file and storing it in form of a datadframe\n",
    "df = pd.read_csv('NYC_Restaurants.csv', dtype = str)"
   ]
  },
  {
   "cell_type": "markdown",
   "metadata": {},
   "source": [
    "# Q1  Unique Name for each restaurent"
   ]
  },
  {
   "cell_type": "markdown",
   "metadata": {},
   "source": [
    "#Concatinating DBA, BUILDING, STREET, ZIPCODE and BORO to create a new column RESTAURANT in the existing DataFrame"
   ]
  },
  {
   "cell_type": "code",
   "execution_count": 2,
   "metadata": {},
   "outputs": [
    {
     "data": {
      "text/plain": [
       "0           WENDY'S 469 FLATBUSH AVENUE 11225 BROOKLYN\n",
       "1           WENDY'S 469 FLATBUSH AVENUE 11225 BROOKLYN\n",
       "2           WENDY'S 469 FLATBUSH AVENUE 11225 BROOKLYN\n",
       "3           WENDY'S 469 FLATBUSH AVENUE 11225 BROOKLYN\n",
       "4           WENDY'S 469 FLATBUSH AVENUE 11225 BROOKLYN\n",
       "5        TOV KOSHER KITCHEN 97-22 63 ROAD 11374 QUEENS\n",
       "6        TOV KOSHER KITCHEN 97-22 63 ROAD 11374 QUEENS\n",
       "7        TOV KOSHER KITCHEN 97-22 63 ROAD 11374 QUEENS\n",
       "8        TOV KOSHER KITCHEN 97-22 63 ROAD 11374 QUEENS\n",
       "9    BRUNOS ON THE BOULEVARD 8825 ASTORIA BOULEVARD...\n",
       "Name: RESTAURANT, dtype: object"
      ]
     },
     "execution_count": 2,
     "metadata": {},
     "output_type": "execute_result"
    }
   ],
   "source": [
    "#RESTAURANT is the newly added column\n",
    "df['RESTAURANT'] = (df['DBA'] +' '\n",
    "                  + df['BUILDING'] + ' '\n",
    "                  + df['STREET'] + ' '\n",
    "                  + df['ZIPCODE'] + ' '\n",
    "                  + df['BORO'])\n",
    "\n",
    "#Below code prints the first 10 rows of the dataframe\n",
    "df['RESTAURANT'].iloc[:10]"
   ]
  },
  {
   "cell_type": "markdown",
   "metadata": {},
   "source": [
    "# Q2 No. of Unique Restaurants in the DataFrame"
   ]
  },
  {
   "cell_type": "markdown",
   "metadata": {},
   "source": [
    "#Removing duplicates from the newly added RESTAURANTS column will give us unique restaurants in the DataFrame"
   ]
  },
  {
   "cell_type": "code",
   "execution_count": 3,
   "metadata": {},
   "outputs": [
    {
     "data": {
      "text/plain": [
       "10114"
      ]
     },
     "execution_count": 3,
     "metadata": {},
     "output_type": "execute_result"
    }
   ],
   "source": [
    "#len will give us the count of unique values from the RESTAURANTS series.\n",
    "len(df['RESTAURANT'].drop_duplicates())"
   ]
  },
  {
   "cell_type": "markdown",
   "metadata": {},
   "source": [
    "# Q3 No. of Chains in the DataFrame"
   ]
  },
  {
   "cell_type": "markdown",
   "metadata": {},
   "source": [
    "#If a particular DBA is found at more than one location in the unique list of Restaurants we can consider it as a Chain"
   ]
  },
  {
   "cell_type": "code",
   "execution_count": 4,
   "metadata": {},
   "outputs": [
    {
     "data": {
      "text/plain": [
       "368"
      ]
     },
     "execution_count": 4,
     "metadata": {},
     "output_type": "execute_result"
    }
   ],
   "source": [
    "#Creating a dataframe containing only RESTAURANTS, DBA and BORO \n",
    "df1 = df[['RESTAURANT','DBA','BORO']]\n",
    "\n",
    "#Removing the duplicate values \n",
    "df1 = df1.drop_duplicates()\n",
    "\n",
    "#Creating a mask to calculate value \n",
    "mask = df1['DBA'].value_counts()>1\n",
    "\n",
    "#len will give us the count of unique count of no. of chains in the dataframe \n",
    "len(df1['DBA'].value_counts()[mask])"
   ]
  },
  {
   "cell_type": "markdown",
   "metadata": {},
   "source": [
    "# Q4 Top 20 Most popular Chains"
   ]
  },
  {
   "cell_type": "markdown",
   "metadata": {},
   "source": [
    "#We can use the previous questions logic to calculate chains and then plot the first 20 chains, as .value_count() method\n",
    "will return the count in descending order"
   ]
  },
  {
   "cell_type": "code",
   "execution_count": 5,
   "metadata": {},
   "outputs": [
    {
     "data": {
      "text/plain": [
       "<AxesSubplot:>"
      ]
     },
     "execution_count": 5,
     "metadata": {},
     "output_type": "execute_result"
    },
    {
     "data": {
      "image/png": "[encoded data removed]",
      "text/plain": [
       "<Figure size 432x288 with 1 Axes>"
      ]
     },
     "metadata": {
      "needs_background": "light"
     },
     "output_type": "display_data"
    }
   ],
   "source": [
    "df1['DBA'].value_counts()[:20].plot(kind = 'bar')"
   ]
  },
  {
   "cell_type": "markdown",
   "metadata": {},
   "source": [
    "# Q5 Chain Restaurants Fraction"
   ]
  },
  {
   "cell_type": "markdown",
   "metadata": {},
   "source": [
    "#In Order to count the fraction of Chain restaurants we will have to divide chains by total unique restaurents"
   ]
  },
  {
   "cell_type": "code",
   "execution_count": 6,
   "metadata": {},
   "outputs": [
    {
     "data": {
      "text/plain": [
       "0.1647"
      ]
     },
     "execution_count": 6,
     "metadata": {},
     "output_type": "execute_result"
    }
   ],
   "source": [
    "#Creating a mask which would give us only those restaurants that are present at more than one location\n",
    "mask = df[['RESTAURANT','DBA']].drop_duplicates()['DBA'].value_counts()\n",
    "mask = mask[mask>1]\n",
    "\n",
    "#Calculating the total Chains\n",
    "total_chains = len(df.loc[df['DBA'].isin(mask.index.values),]['RESTAURANT'].drop_duplicates())\n",
    "\n",
    "#Total Unique Restaurants\n",
    "total_unique_restaurants = len(df['RESTAURANT'].drop_duplicates())\n",
    "\n",
    "#Fraction (Rounding off to 4 decimals)\n",
    "round(total_chains / total_unique_restaurants, 4)"
   ]
  },
  {
   "cell_type": "markdown",
   "metadata": {},
   "source": [
    "# Q6 Non Chain Restarants in each Boro"
   ]
  },
  {
   "cell_type": "markdown",
   "metadata": {},
   "source": [
    "#In Order to count the no. of Non Chain restaurants in each Boro we will have to "
   ]
  },
  {
   "cell_type": "code",
   "execution_count": 7,
   "metadata": {},
   "outputs": [
    {
     "data": {
      "text/plain": [
       "<AxesSubplot:>"
      ]
     },
     "execution_count": 7,
     "metadata": {},
     "output_type": "execute_result"
    },
    {
     "data": {
      "image/png": "[encoded data removed]",
      "text/plain": [
       "<Figure size 432x288 with 1 Axes>"
      ]
     },
     "metadata": {
      "needs_background": "light"
     },
     "output_type": "display_data"
    }
   ],
   "source": [
    "#Non Chain Restaurants\n",
    "non_chain_list = df1['DBA'].value_counts()[(df1['DBA'].value_counts()==1)].index\n",
    "\n",
    "mask = df1['DBA'].map(lambda x: x in non_chain_list)\n",
    "\n",
    "#Using the mask to take only the Non Chain Restaurants and also removing 'Missing' boros\n",
    "df1.loc[(mask == True) & (df1['BORO'] != 'Missing')]['BORO'].value_counts().plot(kind = 'bar')"
   ]
  },
  {
   "cell_type": "markdown",
   "metadata": {},
   "source": [
    "# Q7 Fraction of Non Chain Restaurants in each Boro"
   ]
  },
  {
   "cell_type": "markdown",
   "metadata": {},
   "source": [
    "#In Order to count the fraction of Non Chain restaurants in each Boro we will have to divide the Non Chain Restaurants in\n",
    "each borough by the total restaurants in respective boro"
   ]
  },
  {
   "cell_type": "code",
   "execution_count": 8,
   "metadata": {},
   "outputs": [
    {
     "data": {
      "text/plain": [
       "<AxesSubplot:>"
      ]
     },
     "execution_count": 8,
     "metadata": {},
     "output_type": "execute_result"
    },
    {
     "data": {
      "image/png": "[encoded data removed]",
      "text/plain": [
       "<Figure size 432x288 with 1 Axes>"
      ]
     },
     "metadata": {
      "needs_background": "light"
     },
     "output_type": "display_data"
    }
   ],
   "source": [
    "# Calculating total Restaurants per boro after removing missing boros\n",
    "restaurants_per_boro = df1.loc[df['BORO'] != 'Missing']['BORO'].value_counts()\n",
    "\n",
    "# Calculating Non Chain Restaurants per boro after removing missing boros\n",
    "non_chain_list = df1['DBA'].value_counts()[(df1['DBA'].value_counts()==1)].index\n",
    "mask = df1['DBA'].map(lambda x: x in non_chain_list)\n",
    "\n",
    "non_chain_restaurant_per_boro = df1.loc[(mask) & (df1['BORO'] != 'Missing')]['BORO'].value_counts()\n",
    "\n",
    "# Plotting the non chain restaurants vs Total Restaurants for each boro\n",
    "(non_chain_restaurant_per_boro / restaurants_per_boro).plot(kind = 'bar')\n",
    "\n",
    "#We see that Manhattan has most non chain restaurants from Q6, \n",
    "#but Brooklyn has highest fraction of non chain (independent) restaurants as seen from the below chart"
   ]
  },
  {
   "cell_type": "markdown",
   "metadata": {},
   "source": [
    "# Q8 Popularity of Cuisines"
   ]
  },
  {
   "cell_type": "markdown",
   "metadata": {},
   "source": [
    "Popularity of cusisine is defined by the no. of unique restaurants where it is served"
   ]
  },
  {
   "cell_type": "code",
   "execution_count": 9,
   "metadata": {},
   "outputs": [
    {
     "data": {
      "text/plain": [
       "<AxesSubplot:>"
      ]
     },
     "execution_count": 9,
     "metadata": {},
     "output_type": "execute_result"
    },
    {
     "data": {
      "image/png": "[encoded data removed]",
      "text/plain": [
       "<Figure size 432x288 with 1 Axes>"
      ]
     },
     "metadata": {
      "needs_background": "light"
     },
     "output_type": "display_data"
    }
   ],
   "source": [
    "#Creating a dataframe containing only RESTAURANTS and Cusines\n",
    "df2 = df[['RESTAURANT','CUISINE DESCRIPTION']]\n",
    "\n",
    "#Removing the duplicate values \n",
    "df2 = df2.drop_duplicates()\n",
    "\n",
    "#Plotting the restaurent count for each cusine in descending order\n",
    "df2['CUISINE DESCRIPTION'].value_counts()[:20].plot(kind = 'bar')"
   ]
  },
  {
   "cell_type": "markdown",
   "metadata": {},
   "source": [
    "# Q9 Restaurants with no violations"
   ]
  },
  {
   "cell_type": "code",
   "execution_count": 10,
   "metadata": {},
   "outputs": [
    {
     "data": {
      "text/plain": [
       "<AxesSubplot:>"
      ]
     },
     "execution_count": 10,
     "metadata": {},
     "output_type": "execute_result"
    },
    {
     "data": {
      "image/png": "[encoded data removed]",
      "text/plain": [
       "<Figure size 432x288 with 1 Axes>"
      ]
     },
     "metadata": {
      "needs_background": "light"
     },
     "output_type": "display_data"
    }
   ],
   "source": [
    "#Creating a dataframe containing only RESTAURANTS and Violation Description\n",
    "df3 = df[['RESTAURANT','VIOLATION CODE','CUISINE DESCRIPTION']].drop_duplicates()\n",
    "\n",
    "# List of Restaurants having atlease one null violation \n",
    "null_list = list(df3[df3['VIOLATION CODE'].isnull()]['RESTAURANT'].drop_duplicates())\n",
    "\n",
    "# List of Restaurants having atlease one not null violation \n",
    "not_null_list = list(df3[df3['VIOLATION CODE'].notnull()]['RESTAURANT'].drop_duplicates())\n",
    "\n",
    "# We are checking if the the restaurant with null violation is present in the list of restaurants with not null violation\n",
    "# and if it is not present, then we can safely say that it doesnt have any violation and hence we can append it to the list\n",
    "# no_violations which contains only those restaurants that were never cited for violation\n",
    "no_violations = []\n",
    "for i in null_list:\n",
    "    if i not in (not_null_list):\n",
    "        no_violations.append(i)\n",
    "\n",
    "# Creating a DataFrame for the list of Restaurants having no violations\n",
    "df4 = DataFrame(data = no_violations, columns = ['RESTAURANT'])\n",
    "\n",
    "# Plotting the top 20 cusines for the restaurants with no violations\n",
    "pd.merge(df4,df3,how = 'left', on = 'RESTAURANT')['CUISINE DESCRIPTION'].value_counts()[:20].plot(kind = 'bar')"
   ]
  },
  {
   "cell_type": "markdown",
   "metadata": {},
   "source": [
    "# Q10 Cleanest Cuisines"
   ]
  },
  {
   "cell_type": "code",
   "execution_count": 11,
   "metadata": {},
   "outputs": [],
   "source": [
    "#1.Select all cuisines for which there were atleast 20 restaurants presenting that cusine\n",
    "\n",
    "mask = df[['RESTAURANT','CUISINE DESCRIPTION']].drop_duplicates()['CUISINE DESCRIPTION'].value_counts()\n",
    "mask = mask[mask>=20]\n",
    "\n",
    "df5 = df.loc[df['CUISINE DESCRIPTION'].isin(mask.index.values),]\n",
    "\n",
    "#df4 has restaurants with no violations and df5 has cusines that were served at alleast 20 restaurants\n",
    "no_violations_restaurants = pd.merge(df5,df4,how = 'inner', on = 'RESTAURANT')[['RESTAURANT','CUISINE DESCRIPTION']].drop_duplicates()\n",
    "no_violations_restaurants = no_violations_restaurants['CUISINE DESCRIPTION'].value_counts()"
   ]
  },
  {
   "cell_type": "code",
   "execution_count": 12,
   "metadata": {},
   "outputs": [
    {
     "data": {
      "text/plain": [
       "Soul Food                          0.090909\n",
       "Vietnamese/Cambodian/Malaysia      0.062500\n",
       "Other                              0.058252\n",
       "Barbecue                           0.047619\n",
       "Soups & Sandwiches                 0.047619\n",
       "                                     ...   \n",
       "Hotdogs/Pretzels                   0.000000\n",
       "Ice Cream, Gelato, Yogurt, Ices    0.000000\n",
       "African                            0.000000\n",
       "Iranian                            0.000000\n",
       "Indonesian                         0.000000\n",
       "Name: CUISINE DESCRIPTION, Length: 79, dtype: float64"
      ]
     },
     "execution_count": 12,
     "metadata": {},
     "output_type": "execute_result"
    }
   ],
   "source": [
    "#2.Ratio of restaurants that never got cited vs total restaurants for each cusine\n",
    "\n",
    "total_restaurants = df3[['CUISINE DESCRIPTION','RESTAURANT']].drop_duplicates()['CUISINE DESCRIPTION'].value_counts()\n",
    "\n",
    "(no_violations_restaurants  / total_restaurants).fillna(0).sort_values(ascending = False)"
   ]
  },
  {
   "cell_type": "code",
   "execution_count": 13,
   "metadata": {},
   "outputs": [
    {
     "data": {
      "text/html": [
       "<div>\n",
       "<style scoped>\n",
       "    .dataframe tbody tr th:only-of-type {\n",
       "        vertical-align: middle;\n",
       "    }\n",
       "\n",
       "    .dataframe tbody tr th {\n",
       "        vertical-align: top;\n",
       "    }\n",
       "\n",
       "    .dataframe thead th {\n",
       "        text-align: right;\n",
       "    }\n",
       "</style>\n",
       "<table border=\"1\" class=\"dataframe\">\n",
       "  <thead>\n",
       "    <tr style=\"text-align: right;\">\n",
       "      <th></th>\n",
       "      <th>index</th>\n",
       "      <th>CUISINE DESCRIPTION</th>\n",
       "    </tr>\n",
       "  </thead>\n",
       "  <tbody>\n",
       "    <tr>\n",
       "      <th>0</th>\n",
       "      <td>Soul Food</td>\n",
       "      <td>0.090909</td>\n",
       "    </tr>\n",
       "    <tr>\n",
       "      <th>1</th>\n",
       "      <td>Vietnamese/Cambodian/Malaysia</td>\n",
       "      <td>0.062500</td>\n",
       "    </tr>\n",
       "    <tr>\n",
       "      <th>2</th>\n",
       "      <td>Other</td>\n",
       "      <td>0.058252</td>\n",
       "    </tr>\n",
       "    <tr>\n",
       "      <th>3</th>\n",
       "      <td>Barbecue</td>\n",
       "      <td>0.047619</td>\n",
       "    </tr>\n",
       "    <tr>\n",
       "      <th>4</th>\n",
       "      <td>Soups &amp; Sandwiches</td>\n",
       "      <td>0.047619</td>\n",
       "    </tr>\n",
       "    <tr>\n",
       "      <th>5</th>\n",
       "      <td>Continental</td>\n",
       "      <td>0.047619</td>\n",
       "    </tr>\n",
       "    <tr>\n",
       "      <th>6</th>\n",
       "      <td>Asian</td>\n",
       "      <td>0.041096</td>\n",
       "    </tr>\n",
       "    <tr>\n",
       "      <th>7</th>\n",
       "      <td>Chinese</td>\n",
       "      <td>0.038251</td>\n",
       "    </tr>\n",
       "    <tr>\n",
       "      <th>8</th>\n",
       "      <td>Greek</td>\n",
       "      <td>0.036364</td>\n",
       "    </tr>\n",
       "    <tr>\n",
       "      <th>9</th>\n",
       "      <td>Peruvian</td>\n",
       "      <td>0.035714</td>\n",
       "    </tr>\n",
       "  </tbody>\n",
       "</table>\n",
       "</div>"
      ],
      "text/plain": [
       "                           index  CUISINE DESCRIPTION\n",
       "0                      Soul Food             0.090909\n",
       "1  Vietnamese/Cambodian/Malaysia             0.062500\n",
       "2                          Other             0.058252\n",
       "3                       Barbecue             0.047619\n",
       "4             Soups & Sandwiches             0.047619\n",
       "5                    Continental             0.047619\n",
       "6                          Asian             0.041096\n",
       "7                        Chinese             0.038251\n",
       "8                          Greek             0.036364\n",
       "9                       Peruvian             0.035714"
      ]
     },
     "execution_count": 13,
     "metadata": {},
     "output_type": "execute_result"
    }
   ],
   "source": [
    "#3.Top-10 cuisines with the highest ratios; \n",
    "\n",
    "(no_violations_restaurants  / total_restaurants).fillna(0).sort_values(ascending = False).reset_index().iloc[:10]"
   ]
  },
  {
   "cell_type": "markdown",
   "metadata": {},
   "source": [
    "# Q11 Most Common Violations in each Boro"
   ]
  },
  {
   "cell_type": "markdown",
   "metadata": {},
   "source": [
    "#cross tab function in python will compute cross tabulation of two variables"
   ]
  },
  {
   "cell_type": "code",
   "execution_count": 14,
   "metadata": {},
   "outputs": [
    {
     "data": {
      "text/html": [
       "<div>\n",
       "<style scoped>\n",
       "    .dataframe tbody tr th:only-of-type {\n",
       "        vertical-align: middle;\n",
       "    }\n",
       "\n",
       "    .dataframe tbody tr th {\n",
       "        vertical-align: top;\n",
       "    }\n",
       "\n",
       "    .dataframe thead th {\n",
       "        text-align: right;\n",
       "    }\n",
       "</style>\n",
       "<table border=\"1\" class=\"dataframe\">\n",
       "  <thead>\n",
       "    <tr style=\"text-align: right;\">\n",
       "      <th>BORO</th>\n",
       "      <th>BRONX</th>\n",
       "      <th>BROOKLYN</th>\n",
       "      <th>MANHATTAN</th>\n",
       "      <th>QUEENS</th>\n",
       "      <th>STATEN ISLAND</th>\n",
       "    </tr>\n",
       "    <tr>\n",
       "      <th>VIOLATION DESCRIPTION</th>\n",
       "      <th></th>\n",
       "      <th></th>\n",
       "      <th></th>\n",
       "      <th></th>\n",
       "      <th></th>\n",
       "    </tr>\n",
       "  </thead>\n",
       "  <tbody>\n",
       "    <tr>\n",
       "      <th>\u001aChoking first aid\u001a poster not posted. \u001aAlcohol and pregnancy\u001a warning sign not posted. Resuscitation equipment: exhaled air resuscitation masks (adult &amp; pediatric), latex gloves, sign not posted. Inspection report sign not posted.</th>\n",
       "      <td>12</td>\n",
       "      <td>40</td>\n",
       "      <td>49</td>\n",
       "      <td>29</td>\n",
       "      <td>5</td>\n",
       "    </tr>\n",
       "    <tr>\n",
       "      <th>''''No Smoking\u001a and/or 'Smoking Permitted\u001a sign not conspicuously posted. Health warning not present on 'Smoking Permitted\u001a</th>\n",
       "      <td>1</td>\n",
       "      <td>5</td>\n",
       "      <td>6</td>\n",
       "      <td>4</td>\n",
       "      <td>1</td>\n",
       "    </tr>\n",
       "    <tr>\n",
       "      <th>''''Wash hands\u001a sign not posted at hand wash facility.</th>\n",
       "      <td>21</td>\n",
       "      <td>57</td>\n",
       "      <td>93</td>\n",
       "      <td>60</td>\n",
       "      <td>8</td>\n",
       "    </tr>\n",
       "    <tr>\n",
       "      <th>A food containing artificial trans fat, with 0.5 grams or more of trans fat per serving, is being stored, distributed, held for service, used in preparation of a menu item, or served.</th>\n",
       "      <td>5</td>\n",
       "      <td>12</td>\n",
       "      <td>19</td>\n",
       "      <td>24</td>\n",
       "      <td>3</td>\n",
       "    </tr>\n",
       "    <tr>\n",
       "      <th>Accurate thermometer not provided in refrigerated or hot holding equipment.</th>\n",
       "      <td>21</td>\n",
       "      <td>76</td>\n",
       "      <td>98</td>\n",
       "      <td>92</td>\n",
       "      <td>16</td>\n",
       "    </tr>\n",
       "    <tr>\n",
       "      <th>...</th>\n",
       "      <td>...</td>\n",
       "      <td>...</td>\n",
       "      <td>...</td>\n",
       "      <td>...</td>\n",
       "      <td>...</td>\n",
       "    </tr>\n",
       "    <tr>\n",
       "      <th>Toilet facility not provided for employees or for patrons when required.</th>\n",
       "      <td>2</td>\n",
       "      <td>3</td>\n",
       "      <td>11</td>\n",
       "      <td>3</td>\n",
       "      <td>1</td>\n",
       "    </tr>\n",
       "    <tr>\n",
       "      <th>Toilet facility used by women does not have at least one covered garbage receptacle.</th>\n",
       "      <td>1</td>\n",
       "      <td>5</td>\n",
       "      <td>7</td>\n",
       "      <td>2</td>\n",
       "      <td>1</td>\n",
       "    </tr>\n",
       "    <tr>\n",
       "      <th>Toxic chemical improperly labeled, stored or used such that food contamination may occur.</th>\n",
       "      <td>2</td>\n",
       "      <td>8</td>\n",
       "      <td>15</td>\n",
       "      <td>20</td>\n",
       "      <td>3</td>\n",
       "    </tr>\n",
       "    <tr>\n",
       "      <th>Unprotected food re-served.</th>\n",
       "      <td>1</td>\n",
       "      <td>0</td>\n",
       "      <td>1</td>\n",
       "      <td>0</td>\n",
       "      <td>0</td>\n",
       "    </tr>\n",
       "    <tr>\n",
       "      <th>Wiping cloths soiled or not stored in sanitizing solution.</th>\n",
       "      <td>47</td>\n",
       "      <td>198</td>\n",
       "      <td>285</td>\n",
       "      <td>168</td>\n",
       "      <td>25</td>\n",
       "    </tr>\n",
       "  </tbody>\n",
       "</table>\n",
       "<p>82 rows × 5 columns</p>\n",
       "</div>"
      ],
      "text/plain": [
       "BORO                                                BRONX  BROOKLYN  \\\n",
       "VIOLATION DESCRIPTION                                                 \n",
       "\u001aChoking first aid\u001a poster not posted. \u001aAlcohol...     12        40   \n",
       "''''No Smoking\u001a and/or 'Smoking Permitted\u001a sign...      1         5   \n",
       "''''Wash hands\u001a sign not posted at hand wash fa...     21        57   \n",
       "A food containing artificial trans fat, with 0....      5        12   \n",
       "Accurate thermometer not provided in refrigerat...     21        76   \n",
       "...                                                   ...       ...   \n",
       "Toilet facility not provided for employees or f...      2         3   \n",
       "Toilet facility used by women does not have at ...      1         5   \n",
       "Toxic chemical improperly labeled, stored or us...      2         8   \n",
       "Unprotected food re-served.                             1         0   \n",
       "Wiping cloths soiled or not stored in sanitizin...     47       198   \n",
       "\n",
       "BORO                                                MANHATTAN  QUEENS  \\\n",
       "VIOLATION DESCRIPTION                                                   \n",
       "\u001aChoking first aid\u001a poster not posted. \u001aAlcohol...         49      29   \n",
       "''''No Smoking\u001a and/or 'Smoking Permitted\u001a sign...          6       4   \n",
       "''''Wash hands\u001a sign not posted at hand wash fa...         93      60   \n",
       "A food containing artificial trans fat, with 0....         19      24   \n",
       "Accurate thermometer not provided in refrigerat...         98      92   \n",
       "...                                                       ...     ...   \n",
       "Toilet facility not provided for employees or f...         11       3   \n",
       "Toilet facility used by women does not have at ...          7       2   \n",
       "Toxic chemical improperly labeled, stored or us...         15      20   \n",
       "Unprotected food re-served.                                 1       0   \n",
       "Wiping cloths soiled or not stored in sanitizin...        285     168   \n",
       "\n",
       "BORO                                                STATEN ISLAND  \n",
       "VIOLATION DESCRIPTION                                              \n",
       "\u001aChoking first aid\u001a poster not posted. \u001aAlcohol...              5  \n",
       "''''No Smoking\u001a and/or 'Smoking Permitted\u001a sign...              1  \n",
       "''''Wash hands\u001a sign not posted at hand wash fa...              8  \n",
       "A food containing artificial trans fat, with 0....              3  \n",
       "Accurate thermometer not provided in refrigerat...             16  \n",
       "...                                                           ...  \n",
       "Toilet facility not provided for employees or f...              1  \n",
       "Toilet facility used by women does not have at ...              1  \n",
       "Toxic chemical improperly labeled, stored or us...              3  \n",
       "Unprotected food re-served.                                     0  \n",
       "Wiping cloths soiled or not stored in sanitizin...             25  \n",
       "\n",
       "[82 rows x 5 columns]"
      ]
     },
     "execution_count": 14,
     "metadata": {},
     "output_type": "execute_result"
    }
   ],
   "source": [
    "#This will give us the no. of times each violation occurs in each boro\n",
    "df7 = df[df['BORO']!='Missing'][['VIOLATION DESCRIPTION','BORO']]\n",
    "df7 = pd.crosstab(df7['VIOLATION DESCRIPTION'], df7['BORO'])\n",
    "df7"
   ]
  },
  {
   "cell_type": "code",
   "execution_count": 15,
   "metadata": {},
   "outputs": [
    {
     "name": "stdout",
     "output_type": "stream",
     "text": [
      "Boro BRONX :\n",
      " Non-food contact surface improperly constructed. Unacceptable material used. Non-food contact surface or equipment improperly maintained and/or not properly sealed, raised, spaced or movable to allow accessibility for cleaning on all sides, above and underneath the unit. \n",
      "\n",
      "\n",
      "Boro BROOKLYN :\n",
      " Non-food contact surface improperly constructed. Unacceptable material used. Non-food contact surface or equipment improperly maintained and/or not properly sealed, raised, spaced or movable to allow accessibility for cleaning on all sides, above and underneath the unit. \n",
      "\n",
      "\n",
      "Boro MANHATTAN :\n",
      " Non-food contact surface improperly constructed. Unacceptable material used. Non-food contact surface or equipment improperly maintained and/or not properly sealed, raised, spaced or movable to allow accessibility for cleaning on all sides, above and underneath the unit. \n",
      "\n",
      "\n",
      "Boro QUEENS :\n",
      " Non-food contact surface improperly constructed. Unacceptable material used. Non-food contact surface or equipment improperly maintained and/or not properly sealed, raised, spaced or movable to allow accessibility for cleaning on all sides, above and underneath the unit. \n",
      "\n",
      "\n",
      "Boro STATEN ISLAND :\n",
      " Non-food contact surface improperly constructed. Unacceptable material used. Non-food contact surface or equipment improperly maintained and/or not properly sealed, raised, spaced or movable to allow accessibility for cleaning on all sides, above and underneath the unit. \n",
      "\n",
      "\n"
     ]
    }
   ],
   "source": [
    "for i in df7:\n",
    "    print(\"Boro\", i,\":\\n\",df7[i].idxmax(),\"\\n\\n\")"
   ]
  },
  {
   "cell_type": "markdown",
   "metadata": {},
   "source": [
    "# Q12 Most Common Violations in each Boro"
   ]
  },
  {
   "cell_type": "markdown",
   "metadata": {},
   "source": [
    "Normalizing the violation counts to get the most common violations in each boro"
   ]
  },
  {
   "cell_type": "code",
   "execution_count": 16,
   "metadata": {},
   "outputs": [],
   "source": [
    "#1. Getting Overall Frequency\n",
    "df8 = df[df['BORO']!='Missing'][['VIOLATION DESCRIPTION','BORO']]\n",
    "violationFrequency = df8['VIOLATION DESCRIPTION'].value_counts()"
   ]
  },
  {
   "cell_type": "code",
   "execution_count": 17,
   "metadata": {},
   "outputs": [
    {
     "name": "stdout",
     "output_type": "stream",
     "text": [
      "\u001aChoking first aid\u001a poster not posted. \u001aAlcohol and pregnancy\u001a warning sign not posted. Resuscitation equipment: exhaled air resuscitation masks (adult & pediatric), latex gloves, sign not posted. Inspection report sign not posted.    0.088889\n",
      "''''No Smoking\u001a and/or 'Smoking Permitted\u001a sign not conspicuously posted. Health warning not present on 'Smoking Permitted\u001a                                                                                                                0.058824\n",
      "''''Wash hands\u001a sign not posted at hand wash facility.                                                                                                                                                                                     0.087866\n",
      "A food containing artificial trans fat, with 0.5 grams or more of trans fat per serving, is being stored, distributed, held for service, used in preparation of a menu item, or served.                                                    0.079365\n",
      "Accurate thermometer not provided in refrigerated or hot holding equipment.                                                                                                                                                                0.069307\n",
      "                                                                                                                                                                                                                                             ...   \n",
      "Toilet facility not provided for employees or for patrons when required.                                                                                                                                                                   0.100000\n",
      "Toilet facility used by women does not have at least one covered garbage receptacle.                                                                                                                                                       0.062500\n",
      "Toxic chemical improperly labeled, stored or used such that food contamination may occur.                                                                                                                                                  0.041667\n",
      "Unprotected food re-served.                                                                                                                                                                                                                0.500000\n",
      "Wiping cloths soiled or not stored in sanitizing solution.                                                                                                                                                                                 0.065007\n",
      "Length: 82, dtype: float64\n",
      "\u001aChoking first aid\u001a poster not posted. \u001aAlcohol and pregnancy\u001a warning sign not posted. Resuscitation equipment: exhaled air resuscitation masks (adult & pediatric), latex gloves, sign not posted. Inspection report sign not posted.    0.296296\n",
      "''''No Smoking\u001a and/or 'Smoking Permitted\u001a sign not conspicuously posted. Health warning not present on 'Smoking Permitted\u001a                                                                                                                0.294118\n",
      "''''Wash hands\u001a sign not posted at hand wash facility.                                                                                                                                                                                     0.238494\n",
      "A food containing artificial trans fat, with 0.5 grams or more of trans fat per serving, is being stored, distributed, held for service, used in preparation of a menu item, or served.                                                    0.190476\n",
      "Accurate thermometer not provided in refrigerated or hot holding equipment.                                                                                                                                                                0.250825\n",
      "                                                                                                                                                                                                                                             ...   \n",
      "Toilet facility not provided for employees or for patrons when required.                                                                                                                                                                   0.150000\n",
      "Toilet facility used by women does not have at least one covered garbage receptacle.                                                                                                                                                       0.312500\n",
      "Toxic chemical improperly labeled, stored or used such that food contamination may occur.                                                                                                                                                  0.166667\n",
      "Unprotected food re-served.                                                                                                                                                                                                                0.000000\n",
      "Wiping cloths soiled or not stored in sanitizing solution.                                                                                                                                                                                 0.273859\n",
      "Length: 82, dtype: float64\n",
      "\u001aChoking first aid\u001a poster not posted. \u001aAlcohol and pregnancy\u001a warning sign not posted. Resuscitation equipment: exhaled air resuscitation masks (adult & pediatric), latex gloves, sign not posted. Inspection report sign not posted.    0.362963\n",
      "''''No Smoking\u001a and/or 'Smoking Permitted\u001a sign not conspicuously posted. Health warning not present on 'Smoking Permitted\u001a                                                                                                                0.352941\n",
      "''''Wash hands\u001a sign not posted at hand wash facility.                                                                                                                                                                                     0.389121\n",
      "A food containing artificial trans fat, with 0.5 grams or more of trans fat per serving, is being stored, distributed, held for service, used in preparation of a menu item, or served.                                                    0.301587\n",
      "Accurate thermometer not provided in refrigerated or hot holding equipment.                                                                                                                                                                0.323432\n",
      "                                                                                                                                                                                                                                             ...   \n",
      "Toilet facility not provided for employees or for patrons when required.                                                                                                                                                                   0.550000\n",
      "Toilet facility used by women does not have at least one covered garbage receptacle.                                                                                                                                                       0.437500\n",
      "Toxic chemical improperly labeled, stored or used such that food contamination may occur.                                                                                                                                                  0.312500\n",
      "Unprotected food re-served.                                                                                                                                                                                                                0.500000\n",
      "Wiping cloths soiled or not stored in sanitizing solution.                                                                                                                                                                                 0.394191\n",
      "Length: 82, dtype: float64\n",
      "\u001aChoking first aid\u001a poster not posted. \u001aAlcohol and pregnancy\u001a warning sign not posted. Resuscitation equipment: exhaled air resuscitation masks (adult & pediatric), latex gloves, sign not posted. Inspection report sign not posted.    0.214815\n",
      "''''No Smoking\u001a and/or 'Smoking Permitted\u001a sign not conspicuously posted. Health warning not present on 'Smoking Permitted\u001a                                                                                                                0.235294\n",
      "''''Wash hands\u001a sign not posted at hand wash facility.                                                                                                                                                                                     0.251046\n",
      "A food containing artificial trans fat, with 0.5 grams or more of trans fat per serving, is being stored, distributed, held for service, used in preparation of a menu item, or served.                                                    0.380952\n",
      "Accurate thermometer not provided in refrigerated or hot holding equipment.                                                                                                                                                                0.303630\n",
      "                                                                                                                                                                                                                                             ...   \n",
      "Toilet facility not provided for employees or for patrons when required.                                                                                                                                                                   0.150000\n",
      "Toilet facility used by women does not have at least one covered garbage receptacle.                                                                                                                                                       0.125000\n",
      "Toxic chemical improperly labeled, stored or used such that food contamination may occur.                                                                                                                                                  0.416667\n",
      "Unprotected food re-served.                                                                                                                                                                                                                0.000000\n",
      "Wiping cloths soiled or not stored in sanitizing solution.                                                                                                                                                                                 0.232365\n",
      "Length: 82, dtype: float64\n",
      "\u001aChoking first aid\u001a poster not posted. \u001aAlcohol and pregnancy\u001a warning sign not posted. Resuscitation equipment: exhaled air resuscitation masks (adult & pediatric), latex gloves, sign not posted. Inspection report sign not posted.    0.037037\n",
      "''''No Smoking\u001a and/or 'Smoking Permitted\u001a sign not conspicuously posted. Health warning not present on 'Smoking Permitted\u001a                                                                                                                0.058824\n",
      "''''Wash hands\u001a sign not posted at hand wash facility.                                                                                                                                                                                     0.033473\n",
      "A food containing artificial trans fat, with 0.5 grams or more of trans fat per serving, is being stored, distributed, held for service, used in preparation of a menu item, or served.                                                    0.047619\n",
      "Accurate thermometer not provided in refrigerated or hot holding equipment.                                                                                                                                                                0.052805\n",
      "                                                                                                                                                                                                                                             ...   \n",
      "Toilet facility not provided for employees or for patrons when required.                                                                                                                                                                   0.050000\n",
      "Toilet facility used by women does not have at least one covered garbage receptacle.                                                                                                                                                       0.062500\n",
      "Toxic chemical improperly labeled, stored or used such that food contamination may occur.                                                                                                                                                  0.062500\n",
      "Unprotected food re-served.                                                                                                                                                                                                                0.000000\n",
      "Wiping cloths soiled or not stored in sanitizing solution.                                                                                                                                                                                 0.034578\n",
      "Length: 82, dtype: float64\n"
     ]
    }
   ],
   "source": [
    "#2. Normalize\n",
    "for i in df7:\n",
    "    print((df7[i]/violationFrequency))"
   ]
  },
  {
   "cell_type": "code",
   "execution_count": 18,
   "metadata": {},
   "outputs": [
    {
     "name": "stdout",
     "output_type": "stream",
     "text": [
      "Boro BRONX :\n",
      " Unprotected food re-served.\n",
      "Boro BROOKLYN :\n",
      " Precooked potentially hazardous food from commercial food processing establishment that is supposed to be heated, but is not heated to 140º F within 2 hours.\n",
      "Boro MANHATTAN :\n",
      " Out-of package sale of tobacco products observed.\n",
      "Boro QUEENS :\n",
      " Caloric content range (minimum to maximum) not posted on menus and or menu boards for each flavor, variety and size of each menu item that is offered for sale in different flavors, varieties and sizes.\n",
      "Boro STATEN ISLAND :\n",
      " Eggs found dirty/cracked; liquid, frozen or powdered eggs not pasteurized.\n"
     ]
    }
   ],
   "source": [
    "#3.Finding most common violations, by pointing to index with hightest violation using idxmax()\n",
    "for i in df7:\n",
    "    print(\"Boro\", i,\":\\n\",(df7[i]/violationFrequency).idxmax())"
   ]
  },
  {
   "cell_type": "markdown",
   "metadata": {},
   "source": [
    "# Q13 Area codes that have unique Zip Codes"
   ]
  },
  {
   "cell_type": "markdown",
   "metadata": {},
   "source": [
    "In order to find area code that corresponding to unique zip code, we are first finding area code and then checking \n",
    "how many times it is repeated and taking only those zip that are not repeated"
   ]
  },
  {
   "cell_type": "code",
   "execution_count": 19,
   "metadata": {},
   "outputs": [
    {
     "data": {
      "text/plain": [
       "34"
      ]
     },
     "execution_count": 19,
     "metadata": {},
     "output_type": "execute_result"
    }
   ],
   "source": [
    "#First three digit of phone number equals to the area code\n",
    "df11 = df[['ZIPCODE','PHONE']].drop_duplicates()\n",
    "df11['AREA CODE'] = df11['PHONE'].astype(str).str[0:3]\n",
    "\n",
    "#Creating a mask to count the number of times area code is repeated\n",
    "mask = df11[['AREA CODE','ZIPCODE']]['AREA CODE'].value_counts()\n",
    "\n",
    "#finding the no. of area code which are not repeated\n",
    "len(mask[mask==1])"
   ]
  },
  {
   "cell_type": "markdown",
   "metadata": {},
   "source": [
    "# Q14 Misspellings of Street Names"
   ]
  },
  {
   "cell_type": "code",
   "execution_count": 20,
   "metadata": {},
   "outputs": [
    {
     "data": {
      "text/plain": [
       "STREET TYPE_y\n",
       "AVE         AVENUE\n",
       "ST          STREET\n",
       "RD            ROAD\n",
       "PL           PLACE\n",
       "BOULEARD      BLVD\n",
       "BULEVARD      BLVD\n",
       "dtype: object"
      ]
     },
     "execution_count": 20,
     "metadata": {},
     "output_type": "execute_result"
    }
   ],
   "source": [
    "# Creating STREET TYPE , which stores the last name of the list\n",
    "df[\"STREET TYPE\"] = df[\"STREET\"].str.split().str[-1]\n",
    "\n",
    "# Creating STREET BASE, which contains everything but the last word\n",
    "df[\"STREET BASE\"] = df[\"STREET\"].str.split().str[:-1].str.join(\" \")\n",
    "\n",
    "# Create STREET BASE & ZIP, it combines STREET BASE and ZIPCODE\n",
    "df[\"STREET BASE & ZIP\"] = (df[\"STREET BASE\"] + \" \"\n",
    "                          + df[\"ZIPCODE\"])\n",
    "#Creating Unique list of Street Type, Street Base and Street Base and Zip\n",
    "STREET = df[[\"STREET TYPE\", \"STREET BASE\", \"STREET BASE & ZIP\"]].drop_duplicates()\n",
    "\n",
    "#Removing null values in STREET BASE if any\n",
    "STREET = STREET[STREET[\"STREET BASE\"]!=\"\"]\n",
    "\n",
    "#Merging the dataframes (Self join)\n",
    "STREET = pd.merge(STREET, STREET, on =\"STREET BASE & ZIP\")\n",
    "\n",
    "#Taking out observations that have different street type on merged data\n",
    "STREET = STREET[STREET[\"STREET TYPE_x\"].ne(STREET[\"STREET TYPE_y\"])]\n",
    "\n",
    "#Cross Tab - This gives us the number of timesAveandAvenuewere used with the sameSTREET BASE & ZIP\n",
    "c_tab = pd.crosstab(index=[STREET[\"STREET TYPE_x\"]], columns=STREET[\"STREET TYPE_y\"])\n",
    "\n",
    "#The most commonly street type that occurs with each of the following:AVE,ST,RD,PL,BOULEARD,andBULEVARD.\n",
    "#idmax() will give us the \n",
    "c_tab.loc[:,['AVE', 'ST', 'RD', 'PL', 'BOULEARD', 'BULEVARD']].idxmax()"
   ]
  }
 ],
 "metadata": {
  "kernelspec": {
   "display_name": "Python 3",
   "language": "python",
   "name": "python3"
  },
  "language_info": {
   "codemirror_mode": {
    "name": "ipython",
    "version": 3
   },
   "file_extension": ".py",
   "mimetype": "text/x-python",
   "name": "python",
   "nbconvert_exporter": "python",
   "pygments_lexer": "ipython3",
   "version": "3.8.8"
  }
 },
 "nbformat": 4,
 "nbformat_minor": 4
}
